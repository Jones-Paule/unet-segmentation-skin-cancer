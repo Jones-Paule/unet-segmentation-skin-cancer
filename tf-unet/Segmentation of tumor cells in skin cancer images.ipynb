{
 "cells": [
  {
   "cell_type": "markdown",
   "metadata": {},
   "source": [
    "# Image Segmentation using CNNs"
   ]
  },
  {
   "cell_type": "markdown",
   "metadata": {},
   "source": [
    "## Data\n",
    "900 labeled Image(.jpg),GroundTruth(.png) pairs."
   ]
  },
  {
   "cell_type": "markdown",
   "metadata": {},
   "source": [
    "## Architecture\n",
    "\n",
    "I'm using the Unet Architecture as described the paper [here](https://arxiv.org/pdf/1505.04597.pdf).<br/>\n",
    "The tensorflow implementation of the same is found [here](https://github.com/jakeret/tf_unet).<br/>\n",
    "Keras implememtation [here](https://github.com/jocicmarko/ultrasound-nerve-segmentation).<br/>\n",
    "I'll be using the tensorflow implemetation."
   ]
  },
  {
   "cell_type": "markdown",
   "metadata": {},
   "source": [
    "## Preprocessing\n",
    "\n",
    "+ **The tf_unet package requires having both the Input and groundtruth images in the same folder. **\n",
    "\n",
    "  I wrote a simple [shell script](https://gist.github.com/kaushiksk/cea2b001666f4fe100b2ba31afea3eb0#file-script-sh) to create a 600-300 split and added corresponding input and groundtruth images to the **train/** and **test/** folders.\n",
    "\n",
    "\n",
    "+ **The tf_unet package requries having all images of the same height and width to be fed into the network**\n",
    "\n",
    "  I used ImageMagick's mogrify tool for this.\n",
    "  \n",
    "  ```\n",
    "  $ mogrify -resize 900*700! *.jpg\n",
    "$ mogrify -resie 900*700! *.png\n",
    "  ```\n",
    "  \n",
    "  I discared one image from the training set as it's size was smaller than this. That left me with 599 training images and 300 test images of size 900\\*700.\n",
    "  \n",
    " "
   ]
  },
  {
   "cell_type": "markdown",
   "metadata": {},
   "source": [
    "## Converting Images to greyscale\n",
    "From the last experiment it was clear that the classification was biased towards the red channel, here I convert all input images to greyscale because all necessary informationcan in fact be captured in a sinvle channel."
   ]
  },
  {
   "cell_type": "code",
   "execution_count": null,
   "metadata": {
    "collapsed": true
   },
   "outputs": [],
   "source": [
    "# convert_to_grey.py\n",
    "# The following script is run both in the train/ and the test/ folder\n",
    "from PIL import Image\n",
    "import glob\n",
    "\n",
    "imgs = glob.glob(\"*.jpg\")\n",
    "\n",
    "for file in imgs:\n",
    "    img =  Image.open(file).convert('L')\n",
    "    filename = file.split('.')[0] + \"_gray.jpg\"\n",
    "    img.save(filename)\n",
    "\n"
   ]
  },
  {
   "cell_type": "markdown",
   "metadata": {},
   "source": [
    "## Training\n",
    "\n",
    "I made a few changes to the model, increasing the depth and root features and limiting inputs to a single channel\n",
    "\n",
    "tf_unet docs are available [here](http://tf-unet.readthedocs.io/en/latest/). \n"
   ]
  },
  {
   "cell_type": "code",
   "execution_count": 65,
   "metadata": {
    "collapsed": false
   },
   "outputs": [
    {
     "name": "stderr",
     "output_type": "stream",
     "text": [
      "2017-07-17 11:45:16,867 Layers 4, features 32, filter size 3x3, pool size: 2x2\n"
     ]
    },
    {
     "name": "stdout",
     "output_type": "stream",
     "text": [
      "Number of files used: 599\n"
     ]
    }
   ],
   "source": [
    "#imports\n",
    "from tf_unet import unet, util, image_util\n",
    "\n",
    "# this is a helper object provided by the module to feed data to the network. The parameters are self explanatory\n",
    "# docs : http://tf-unet.readthedocs.io/en/latest/tf_unet.html#tf_unet.image_util.ImageDataProvider\n",
    "\n",
    "data_provider = image_util.ImageDataProvider(\"./train/train/*\",data_suffix=\"gray.jpg\",mask_suffix=\"Segmentation.png\")\n",
    "\n",
    "output_path = \"./model_val_20_epochs/\"\n",
    "\n",
    "#setup & training\n",
    "net = unet.Unet(layers=4, features_root=32, channels=1, n_class=2)\n",
    "trainer = unet.Trainer(net)\n",
    "path = trainer.train(data_provider, output_path, training_iters=32, epochs=20,restore=True)\n"
   ]
  },
  {
   "cell_type": "markdown",
   "metadata": {},
   "source": [
    "### Training Contd.\n",
    "\n",
    "I put the above code in a .py file and ran it for about 20 epochs.<br/>\n"
   ]
  },
  {
   "cell_type": "markdown",
   "metadata": {},
   "source": [
    "## Testing\n",
    "\n",
    "I interrupted training multiple times to observe what was being output by the network. Read through the source code extensively as well.\n",
    "\n",
    "The model output a greyscale image which was just the \"white\" predictions scaled to 255.\n",
    "\n",
    "Each pixel was a binary softmax of the type [black_prob, white_prob] "
   ]
  },
  {
   "cell_type": "code",
   "execution_count": 66,
   "metadata": {
    "collapsed": false
   },
   "outputs": [
    {
     "name": "stdout",
     "output_type": "stream",
     "text": [
      "INFO:tensorflow:Restoring parameters from ./model_val_20_epochs/model.cpkt\n"
     ]
    },
    {
     "name": "stderr",
     "output_type": "stream",
     "text": [
      "2017-07-17 11:45:25,536 Restoring parameters from ./model_val_20_epochs/model.cpkt\n",
      "2017-07-17 11:45:25,773 Model restored from file: ./model_val_20_epochs/model.cpkt\n"
     ]
    }
   ],
   "source": [
    "# Retrive one test example\n",
    "# Retrive stored model (This is saved after training automatically)\n",
    "# predict on the test input\n",
    "\n",
    "x_test, y_test = data_provider(1)\n",
    "path = \"./model_val_20_epochs/model.cpkt\"\n",
    "prediction = net.predict(path, x_test)"
   ]
  },
  {
   "cell_type": "code",
   "execution_count": 67,
   "metadata": {
    "collapsed": false
   },
   "outputs": [
    {
     "data": {
      "text/plain": [
       "((1, 700, 900, 1), (1, 700, 900, 2), (1, 612, 812, 2))"
      ]
     },
     "execution_count": 67,
     "metadata": {},
     "output_type": "execute_result"
    }
   ],
   "source": [
    "x_test.shape,y_test.shape,prediction.shape"
   ]
  },
  {
   "cell_type": "markdown",
   "metadata": {},
   "source": [
    "The output prediction is indeed smaller than the input images. This is due to the various levels of convolution.<br/>\n",
    "Error is calculated in the model by cropping the groundtruth to the size of predicted image, and then comparing the white channel of the groundtruth with the argmax(pixelwise softmax) of the predicted image.\n",
    "\n",
    "The model does internal processing of the groundtruth images to represent each pixel as [1,0] or [0,1].\n",
    "\n",
    "###### I played around with the output here a lot and came up with the below helper functions to represent and predict the ouput on the entire training set.\n",
    "\n",
    "#### I also tried different thresholds for the output image and found that 0.5 gave the best results"
   ]
  },
  {
   "cell_type": "code",
   "execution_count": 28,
   "metadata": {
    "collapsed": false
   },
   "outputs": [
    {
     "data": {
      "text/plain": [
       "(700, 900)"
      ]
     },
     "execution_count": 28,
     "metadata": {},
     "output_type": "execute_result"
    }
   ],
   "source": [
    "x_test[0,...,-1].shape"
   ]
  },
  {
   "cell_type": "code",
   "execution_count": 11,
   "metadata": {
    "collapsed": true
   },
   "outputs": [],
   "source": [
    "import matplotlib.pyplot as plt\n",
    "import matplotlib\n",
    "import numpy as np\n",
    "%matplotlib inline\n",
    "import tensorflow as tf"
   ]
  },
  {
   "cell_type": "code",
   "execution_count": 12,
   "metadata": {
    "collapsed": true
   },
   "outputs": [],
   "source": [
    "# Returns the next test_x, test_y pair\n",
    "# This is just a slightly modified version of the function in the source code\n",
    "\n",
    "def getnext(data_provider):\n",
    "    data, label = data_provider._next_data()\n",
    "\n",
    "    train_data = data_provider._process_data(data)\n",
    "    labels = data_provider._process_labels(label)\n",
    "\n",
    "    train_data, labels = data_provider._post_process(train_data, labels)\n",
    "\n",
    "    nx = data.shape[1]\n",
    "    ny = data.shape[0]\n",
    "\n",
    "    return train_data.reshape(1, ny, nx, data_provider.channels), labels.reshape(1, ny, nx, data_provider.n_class)"
   ]
  },
  {
   "cell_type": "code",
   "execution_count": 70,
   "metadata": {
    "collapsed": false
   },
   "outputs": [],
   "source": [
    "# function to store images in two folders respectively depending on the accuracy\n",
    "\n",
    "def visualize(x_test,y_test,prediction,i,err=False):\n",
    "    \n",
    "    fig, ax = plt.subplots(1, 4, sharex=True, sharey=True, figsize=(12,5))\n",
    "    \n",
    "    ax[0].imshow(x_test[0,...,-1], aspect=\"auto\", cmap=\"gray\") #input\n",
    "    ax[1].imshow(y_test[0,...,1], aspect=\"auto\",cmap=\"gray\") #groundtruth\n",
    "    ax[2].imshow(prediction[0,...,1], aspect=\"auto\",cmap=\"gray\") #prediciton\n",
    "        \n",
    "    mask = ((prediction[0,..., 1]>=0.4).astype('float32')*255).astype(np.uint8) # applying threshold on white channel of prediction\n",
    "    ax[3].imshow(mask, aspect=\"auto\",cmap=\"gray\")\n",
    "    \n",
    "    ax[0].set_title(\"Input\")\n",
    "    ax[1].set_title(\"Ground truth\")\n",
    "    ax[2].set_title(\"Prediction\")\n",
    "    ax[3].set_title(\"Prediction > 0.4\")\n",
    "    fig.tight_layout()\n",
    "    \n",
    "    if err:\n",
    "        fig.savefig(\"./outliers/pred_{}.png\".format(i))\n",
    "    else:\n",
    "        fig.savefig(\"./bestfits/pred_{}.png\".format(i))   \n",
    "    plt.close()"
   ]
  },
  {
   "cell_type": "markdown",
   "metadata": {},
   "source": [
    "Run the below line to see what the function does. It basically puts together images side by side and saves them as a single image."
   ]
  },
  {
   "cell_type": "code",
   "execution_count": 71,
   "metadata": {
    "collapsed": false
   },
   "outputs": [],
   "source": [
    "visualize(x_test,y_test,prediction,1)"
   ]
  },
  {
   "cell_type": "markdown",
   "metadata": {},
   "source": [
    "<img src=\"./bestfits/pred_1.png\">\n",
    "\n",
    "### Evaluation on training set\n",
    "\n",
    "I use the same improvememt I used in the previous experiment for evaluations."
   ]
  },
  {
   "cell_type": "markdown",
   "metadata": {},
   "source": [
    "### Overwriting the inbuilt functions\n",
    "\n",
    "I went through the netire source code at this point to know where exactly I had to make changes. I realised I could fix the overhead computations by changing just two functions and then running things inside my own session.\n"
   ]
  },
  {
   "cell_type": "code",
   "execution_count": 37,
   "metadata": {
    "collapsed": false
   },
   "outputs": [],
   "source": [
    "from tf_unet.unet import *"
   ]
  },
  {
   "cell_type": "code",
   "execution_count": 38,
   "metadata": {
    "collapsed": true
   },
   "outputs": [],
   "source": [
    "# Inheriting the unet.Unet class and overriding a few functions.\n",
    "# source code : http://tf-unet.readthedocs.io/en/latest/_modules/tf_unet/unet.html#Unet\n",
    "\n",
    "class myUnet(unet.Unet):\n",
    "\n",
    "\n",
    "    def predict(self, sess, model_path, x_test,restore=True):\n",
    "        \"\"\"\n",
    "        Uses the model to create a prediction for the given data\n",
    "        \n",
    "        :param model_path: path to the model checkpoint to restore\n",
    "        :param x_test: Data to predict on. Shape [n, nx, ny, channels]\n",
    "        :returns prediction: The unet prediction Shape [n, px, py, labels] (px=nx-self.offset/2) \n",
    "        \"\"\"\n",
    "\n",
    "        # Restore model weights from previously saved model before calling this\n",
    "\n",
    "        y_dummy = np.empty((x_test.shape[0], x_test.shape[1], x_test.shape[2], self.n_class))\n",
    "        prediction = sess.run(self.predicter, feed_dict={self.x: x_test, self.y: y_dummy, self.keep_prob: 1.})\n",
    "            \n",
    "        return prediction\n",
    "\n",
    "\n",
    "    def restore(self, sess, model_path):\n",
    "        \"\"\"\n",
    "        Restores a session from a checkpoint\n",
    "        \n",
    "        :param sess: current session instance\n",
    "        :param model_path: path to file system checkpoint location\n",
    "        \"\"\"\n",
    "        \n",
    "        saver = tf.train.Saver()\n",
    "        saver.restore(sess, model_path)\n",
    "        logging.info(\"Model restored from file: %s\" % model_path)\n"
   ]
  },
  {
   "cell_type": "markdown",
   "metadata": {},
   "source": [
    "Now good to go. Change of metric and change of way of representing the ouput as well. <br/>\n",
    "I decided it would help to display the difference between the predicted and groundtruth images in black and white as this would allow me to see exactly which pixels were being classified wrongly.\n",
    "\n",
    "### Strategy \n",
    "1. Get the predicted image.\n",
    "2. Extract the white channel\n",
    "3. With threshold of 0.5 classify as either 1 or 0\n",
    "4. Extract white channel from groundtruth\n",
    "5. Crop groundtruth down to the size of predicted image (in-built function)\n",
    "6. Compute accuracy via dice-coefficient\n",
    "7. diff = (predicted!=cropped_ground_truth) i.e white pixels in this image are the one's that were classified wrongly"
   ]
  },
  {
   "cell_type": "code",
   "execution_count": 83,
   "metadata": {
    "collapsed": true
   },
   "outputs": [],
   "source": [
    "# Helper function to save concatenated images (input,groundtruth,predicted(with threshold), diff)\n",
    "\n",
    "def save_img(data_x,white_y,white,diff,name):\n",
    "    fig, ax = plt.subplots(1, 4, sharex=True, sharey=True, figsize=(14,5))\n",
    "    ax[0].imshow(data_x[0,...,-1], aspect=\"auto\", cmap=\"gray\")\n",
    "    ax[1].imshow(white_y[0], aspect=\"auto\",cmap=\"gray\")\n",
    "    ax[2].imshow(white[0], aspect=\"auto\",cmap=\"gray\")\n",
    "    ax[3].imshow(diff[0], aspect=\"auto\",cmap=\"gray\")\n",
    "    ax[0].set_title(\"Input\")\n",
    "    ax[1].set_title(\"GroundTruth\")\n",
    "    ax[2].set_title(\"Prediction>0.5\")\n",
    "    ax[3].set_title(\"diff\")\n",
    "    fig.tight_layout()\n",
    "    fig.savefig(name)\n",
    "    plt.close()"
   ]
  },
  {
   "cell_type": "code",
   "execution_count": 58,
   "metadata": {
    "collapsed": true
   },
   "outputs": [],
   "source": [
    "def dice_coeff(pred,y):\n",
    "    pred = pred.reshape(-1,1).astype(np.bool)\n",
    "    y = y.reshape(-1,1).astype(np.bool)\n",
    "    \n",
    "    intersection = np.logical_and(pred,y)\n",
    "    return 2. * intersection.sum() / (pred.sum()+y.sum())\n",
    "    "
   ]
  },
  {
   "cell_type": "code",
   "execution_count": 82,
   "metadata": {
    "collapsed": false
   },
   "outputs": [],
   "source": [
    "# this is where the testing happens\n",
    "\n",
    "def make_predictions(data_provider, outdir,\n",
    "                     save=True, verbose=False,\n",
    "                     printevery=40,\n",
    "                     path = \"./model_val_50_epochs/model.cpkt\"): \n",
    "    \n",
    "\n",
    "    \n",
    "    \n",
    "    #initialise network. Observe we are using our cutsom myUnet Class\n",
    "    net = myUnet(layers=4, features_root=32, channels=1, n_class=2)\n",
    "    \n",
    "    import os\n",
    "    if not os.path.exists(outdir):\n",
    "        os.makedirs(outdir)\n",
    "    \n",
    "    # start tensorflow session\n",
    "    with tf.Session() as sess:\n",
    "    \n",
    "        # Initialize variables\n",
    "        init = tf.global_variables_initializer()\n",
    "        sess.run(init)\n",
    "        \n",
    "        # Restore parameters\n",
    "        net.restore(sess, path)\n",
    "        \n",
    "        accuracy= []\n",
    "        \n",
    "        print(\"Printing Mean Accuracy every\", printevery,\"inputs.\")\n",
    "        print(\"Proccessed : Mean Accuracy\")\n",
    "\n",
    "        for i in range(len(data_provider.data_files)):\n",
    "            \n",
    "            # get next x,y pair\n",
    "            x_train,y_train = getnext(data_provider)\n",
    "            \n",
    "            #predict\n",
    "            prediction = net.predict(sess, path, x_train)\n",
    "            \n",
    "            #apply threshold\n",
    "            prediction = ((prediction[...,1]>=0.5).astype('float32')).astype(np.uint8)\n",
    "            \n",
    "            # crop groundtruth\n",
    "            y_cropped = util.crop_to_shape(y_train[...,1], prediction.shape)\n",
    "\n",
    "            #New accuracy metric, % of pixels that match in both\n",
    "            # acc = np.sum(prediction==y_cropped)/(prediction.shape[0]*prediction.shape[1]*prediction.shape[2])\n",
    "            \n",
    "            #dice-coefficient\n",
    "            acc = dice_coeff(prediction[0],y_cropped[0])            \n",
    "\n",
    "            accuracy.append(acc)\n",
    "            \n",
    "            # diff\n",
    "            diff =  ((prediction!=y_cropped).astype('float32')*255).astype(np.uint8)\n",
    "            \n",
    "            # Scale to 255 to display as grayscale\n",
    "            prediction = prediction*255\n",
    "            y_cropped=y_cropped*255\n",
    "            \n",
    "            #filename : files will be sorted according to accuracy\n",
    "            name = outdir+str(acc)[:4]+\"pred\"+str(i)+\".png\"\n",
    "            \n",
    "            if save:\n",
    "                save_img(x_train, y_cropped, prediction,diff,name)\n",
    "            if verbose:\n",
    "                print(\"{0:>4}:\\t{1}\".format(i,acc))\n",
    "            elif (i+1)%printevery == 0 or i==len(data_provider.data_files)-1:\n",
    "                print(\"{0:>4}:\\t{1}\".format(i+1,np.mean(accuracy)))\n",
    "                \n",
    "        \n",
    "        sess.close()\n",
    "        return accuracy\n"
   ]
  },
  {
   "cell_type": "code",
   "execution_count": 84,
   "metadata": {
    "collapsed": false
   },
   "outputs": [
    {
     "name": "stdout",
     "output_type": "stream",
     "text": [
      "Number of files used: 599\n",
      "Number of files used: 300\n"
     ]
    }
   ],
   "source": [
    "# generator objects for train and test data\n",
    "\n",
    "train_data_provider = image_util.ImageDataProvider(\"./train/train/*\",data_suffix=\"gray.jpg\",mask_suffix=\"Segmentation.png\")\n",
    "test_data_provider = image_util.ImageDataProvider(\"./test/test/*\",data_suffix=\"gray.jpg\",mask_suffix=\"Segmentation.png\")\n"
   ]
  },
  {
   "cell_type": "markdown",
   "metadata": {},
   "source": [
    "## Time for proper testing!!\n"
   ]
  },
  {
   "cell_type": "code",
   "execution_count": 85,
   "metadata": {
    "collapsed": false,
    "scrolled": true
   },
   "outputs": [
    {
     "name": "stderr",
     "output_type": "stream",
     "text": [
      "2017-07-17 11:58:30,535 Layers 4, features 32, filter size 3x3, pool size: 2x2\n"
     ]
    },
    {
     "name": "stdout",
     "output_type": "stream",
     "text": [
      "INFO:tensorflow:Restoring parameters from ./model_val_50_epochs/model.cpkt\n"
     ]
    },
    {
     "name": "stderr",
     "output_type": "stream",
     "text": [
      "2017-07-17 11:58:36,676 Restoring parameters from ./model_val_50_epochs/model.cpkt\n",
      "2017-07-17 11:58:36,878 Model restored from file: ./model_val_50_epochs/model.cpkt\n"
     ]
    },
    {
     "name": "stdout",
     "output_type": "stream",
     "text": [
      "Printing Mean Accuracy every 40 inputs.\n",
      "Proccessed : Mean Accuracy\n",
      "  40:\t0.6545202034054005\n",
      "  80:\t0.6402034518354464\n",
      " 120:\t0.6359928063195694\n",
      " 160:\t0.6341383334538531\n",
      " 200:\t0.6233331919255964\n",
      " 240:\t0.6270858860924589\n",
      " 280:\t0.6341078493999311\n",
      " 320:\t0.6455722759868656\n",
      " 360:\t0.646517891658188\n",
      " 400:\t0.6396729157047477\n",
      " 440:\t0.6400368676589882\n",
      " 480:\t0.6414416915816721\n",
      " 520:\t0.6450608615408485\n",
      " 560:\t0.6418905066460421\n",
      " 599:\t0.6463811461730673\n"
     ]
    }
   ],
   "source": [
    "train_accuracy = make_predictions(train_data_provider,\"./pred/train_pred_dice/\",save=True)"
   ]
  },
  {
   "cell_type": "code",
   "execution_count": 86,
   "metadata": {
    "collapsed": false
   },
   "outputs": [
    {
     "data": {
      "image/png": "[encoded data removed]",
      "text/plain": [
       "<matplotlib.figure.Figure at 0x7f7919250cf8>"
      ]
     },
     "metadata": {},
     "output_type": "display_data"
    }
   ],
   "source": [
    "train_accuracy = np.asarray(train_accuracy)\n",
    "a,b,hist = plt.hist(train_accuracy,bins=10)"
   ]
  },
  {
   "cell_type": "code",
   "execution_count": 87,
   "metadata": {
    "collapsed": true
   },
   "outputs": [],
   "source": [
    "# helper function to view actual counts in histogram\n",
    "def histdata(accuracy):\n",
    "    numvalues, x = np.histogram(accuracy, bins=np.arange(0,1.1,0.1))\n",
    "    print(\"Accuracy  :   No. of predictions\\n\")\n",
    "    for i in range(len(numvalues)):\n",
    "        print(\"{:03.1f} - {:03.1f} : {:>4}\".format(x[i],x[i+1],numvalues[i]))"
   ]
  },
  {
   "cell_type": "code",
   "execution_count": 88,
   "metadata": {
    "collapsed": false
   },
   "outputs": [
    {
     "name": "stdout",
     "output_type": "stream",
     "text": [
      "Accuracy  :   No. of predictions\n",
      "\n",
      "0.0 - 0.1 :   17\n",
      "0.1 - 0.2 :   50\n",
      "0.2 - 0.3 :   37\n",
      "0.3 - 0.4 :   34\n",
      "0.4 - 0.5 :   42\n",
      "0.5 - 0.6 :   45\n",
      "0.6 - 0.7 :   44\n",
      "0.7 - 0.8 :   88\n",
      "0.8 - 0.9 :  101\n",
      "0.9 - 1.0 :  141\n"
     ]
    }
   ],
   "source": [
    "histdata(train_accuracy)"
   ]
  },
  {
   "cell_type": "code",
   "execution_count": 89,
   "metadata": {
    "collapsed": false,
    "scrolled": false
   },
   "outputs": [
    {
     "name": "stdout",
     "output_type": "stream",
     "text": [
      "Mean Accuracy: 0.646381146173\n",
      "Accuracy > 0.8 : 40.4006677796 %\n"
     ]
    }
   ],
   "source": [
    "print(\"Mean Accuracy:\",np.mean(train_accuracy))\n",
    "print(\"Accuracy > 0.8 :\", np.mean(train_accuracy>=0.8)*100,\"%\")"
   ]
  },
  {
   "cell_type": "markdown",
   "metadata": {},
   "source": [
    "#### The model predicts 64.63% of the pixels correctly per image. \n"
   ]
  },
  {
   "cell_type": "markdown",
   "metadata": {},
   "source": [
    "## Let's visualise a bit more!"
   ]
  },
  {
   "cell_type": "markdown",
   "metadata": {},
   "source": [
    "## Now on the test set"
   ]
  },
  {
   "cell_type": "code",
   "execution_count": 90,
   "metadata": {
    "collapsed": false,
    "scrolled": true
   },
   "outputs": [
    {
     "name": "stderr",
     "output_type": "stream",
     "text": [
      "2017-07-17 14:39:17,858 Layers 4, features 32, filter size 3x3, pool size: 2x2\n"
     ]
    },
    {
     "name": "stdout",
     "output_type": "stream",
     "text": [
      "INFO:tensorflow:Restoring parameters from ./model_val_50_epochs/model.cpkt\n"
     ]
    },
    {
     "name": "stderr",
     "output_type": "stream",
     "text": [
      "2017-07-17 14:39:24,134 Restoring parameters from ./model_val_50_epochs/model.cpkt\n",
      "2017-07-17 14:39:24,826 Model restored from file: ./model_val_50_epochs/model.cpkt\n"
     ]
    },
    {
     "name": "stdout",
     "output_type": "stream",
     "text": [
      "Printing Mean Accuracy every 40 inputs.\n",
      "Proccessed : Mean Accuracy\n",
      "  40:\t0.6126622799152859\n",
      "  80:\t0.6029529290574199\n",
      " 120:\t0.6141805412575029\n",
      " 160:\t0.6078714718116836\n",
      " 200:\t0.6052577679677759\n",
      " 240:\t0.6145155095454353\n",
      " 280:\t0.6224489263093678\n",
      " 300:\t0.6241777392384148\n"
     ]
    }
   ],
   "source": [
    "test_accuracy = make_predictions(test_data_provider,\"./pred/test_pred_dice/\",save=True)"
   ]
  },
  {
   "cell_type": "code",
   "execution_count": 91,
   "metadata": {
    "collapsed": false
   },
   "outputs": [
    {
     "data": {
      "image/png": "[encoded data removed]",
      "text/plain": [
       "<matplotlib.figure.Figure at 0x7f791afcc668>"
      ]
     },
     "metadata": {},
     "output_type": "display_data"
    }
   ],
   "source": [
    "test_accuracy = np.asarray(test_accuracy)\n",
    "a,b,hist = plt.hist(test_accuracy,bins=10)"
   ]
  },
  {
   "cell_type": "code",
   "execution_count": 92,
   "metadata": {
    "collapsed": false
   },
   "outputs": [
    {
     "name": "stdout",
     "output_type": "stream",
     "text": [
      "Accuracy  :   No. of predictions\n",
      "\n",
      "0.0 - 0.1 :    4\n",
      "0.1 - 0.2 :   15\n",
      "0.2 - 0.3 :   19\n",
      "0.3 - 0.4 :   26\n",
      "0.4 - 0.5 :   33\n",
      "0.5 - 0.6 :   32\n",
      "0.6 - 0.7 :   38\n",
      "0.7 - 0.8 :   35\n",
      "0.8 - 0.9 :   55\n",
      "0.9 - 1.0 :   43\n"
     ]
    }
   ],
   "source": [
    "histdata(test_accuracy)"
   ]
  },
  {
   "cell_type": "code",
   "execution_count": 93,
   "metadata": {
    "collapsed": false
   },
   "outputs": [
    {
     "name": "stdout",
     "output_type": "stream",
     "text": [
      "Mean Accuracy: 0.624177739238\n",
      "Accuracy > 0.8 : 32.6666666667 %\n"
     ]
    }
   ],
   "source": [
    "print(\"Mean Accuracy:\",np.mean(test_accuracy))\n",
    "print(\"Accuracy > 0.8 :\", np.mean(test_accuracy>=0.8)*100,\"%\")"
   ]
  }
 ],
 "metadata": {
  "anaconda-cloud": {},
  "kernelspec": {
   "display_name": "Python [conda env:tf]",
   "language": "python",
   "name": "conda-env-tf-py"
  },
  "language_info": {
   "codemirror_mode": {
    "name": "ipython",
    "version": 3
   },
   "file_extension": ".py",
   "mimetype": "text/x-python",
   "name": "python",
   "nbconvert_exporter": "python",
   "pygments_lexer": "ipython3",
   "version": "3.5.2"
  }
 },
 "nbformat": 4,
 "nbformat_minor": 2
}
